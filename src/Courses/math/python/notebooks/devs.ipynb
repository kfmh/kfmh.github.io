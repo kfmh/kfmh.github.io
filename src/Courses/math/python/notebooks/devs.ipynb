{
 "cells": [
  {
   "cell_type": "code",
   "execution_count": 1,
   "metadata": {},
   "outputs": [
    {
     "ename": "FileNotFoundError",
     "evalue": "[Errno 2] No such file or directory: '../../../../Data/MATH/test/precalculus/'",
     "output_type": "error",
     "traceback": [
      "\u001b[0;31m---------------------------------------------------------------------------\u001b[0m",
      "\u001b[0;31mFileNotFoundError\u001b[0m                         Traceback (most recent call last)",
      "\u001b[1;32m/Users/undr/Documents/GitHub/kfmh.github.io/src/Courses/math/python/notebooks/devs.ipynb Cell 1\u001b[0m line \u001b[0;36m8\n\u001b[1;32m      <a href='vscode-notebook-cell:/Users/undr/Documents/GitHub/kfmh.github.io/src/Courses/math/python/notebooks/devs.ipynb#W0sZmlsZQ%3D%3D?line=3'>4</a>\u001b[0m \u001b[39mimport\u001b[39;00m \u001b[39mos\u001b[39;00m \n\u001b[1;32m      <a href='vscode-notebook-cell:/Users/undr/Documents/GitHub/kfmh.github.io/src/Courses/math/python/notebooks/devs.ipynb#W0sZmlsZQ%3D%3D?line=5'>6</a>\u001b[0m dir_paths \u001b[39m=\u001b[39m \u001b[39m\"\u001b[39m\u001b[39m../../../../Data/MATH/test/precalculus/\u001b[39m\u001b[39m\"\u001b[39m\n\u001b[0;32m----> <a href='vscode-notebook-cell:/Users/undr/Documents/GitHub/kfmh.github.io/src/Courses/math/python/notebooks/devs.ipynb#W0sZmlsZQ%3D%3D?line=7'>8</a>\u001b[0m file_paths \u001b[39m=\u001b[39m [os\u001b[39m.\u001b[39mpath\u001b[39m.\u001b[39mjoin(dir_paths, file) \u001b[39mfor\u001b[39;00m file \u001b[39min\u001b[39;00m os\u001b[39m.\u001b[39;49mlistdir(dir_paths)\n\u001b[1;32m      <a href='vscode-notebook-cell:/Users/undr/Documents/GitHub/kfmh.github.io/src/Courses/math/python/notebooks/devs.ipynb#W0sZmlsZQ%3D%3D?line=8'>9</a>\u001b[0m               \u001b[39mif\u001b[39;00m os\u001b[39m.\u001b[39mpath\u001b[39m.\u001b[39misfile(os\u001b[39m.\u001b[39mpath\u001b[39m.\u001b[39mjoin(dir_paths, file))]\n\u001b[1;32m     <a href='vscode-notebook-cell:/Users/undr/Documents/GitHub/kfmh.github.io/src/Courses/math/python/notebooks/devs.ipynb#W0sZmlsZQ%3D%3D?line=11'>12</a>\u001b[0m \u001b[39m# Initialize an empty list to store JSON data\u001b[39;00m\n\u001b[1;32m     <a href='vscode-notebook-cell:/Users/undr/Documents/GitHub/kfmh.github.io/src/Courses/math/python/notebooks/devs.ipynb#W0sZmlsZQ%3D%3D?line=12'>13</a>\u001b[0m combined_json_data \u001b[39m=\u001b[39m []\n",
      "\u001b[0;31mFileNotFoundError\u001b[0m: [Errno 2] No such file or directory: '../../../../Data/MATH/test/precalculus/'"
     ]
    }
   ],
   "source": [
    "import json\n",
    "import os\n",
    "\n",
    "import os \n",
    "\n",
    "dir_paths = \"../../../../Data/MATH/test/precalculus/\"\n",
    "\n",
    "file_paths = [os.path.join(dir_paths, file) for file in os.listdir(dir_paths)\n",
    "              if os.path.isfile(os.path.join(dir_paths, file))]\n",
    "\n",
    "\n",
    "# Initialize an empty list to store JSON data\n",
    "combined_json_data = []\n",
    "\n",
    "for file_name in file_paths:\n",
    "    with open(file_name, 'r') as file:\n",
    "        data = json.load(file)\n",
    "        combined_json_data.append(data)\n",
    "\n",
    "# Now combined_json_data contains all the JSON objects\n",
    "# You can write it to a new JSON file or process it as needed\n",
    "with open(f'{dir_paths.split(\"/\")[-2]}.json', 'w') as outfile:\n",
    "    json.dump(combined_json_data, outfile, indent=4)\n",
    "\n"
   ]
  }
 ],
 "metadata": {
  "kernelspec": {
   "display_name": ".env",
   "language": "python",
   "name": ".env"
  },
  "language_info": {
   "codemirror_mode": {
    "name": "ipython",
    "version": 3
   },
   "file_extension": ".py",
   "mimetype": "text/x-python",
   "name": "python",
   "nbconvert_exporter": "python",
   "pygments_lexer": "ipython3",
   "version": "3.11.3"
  }
 },
 "nbformat": 4,
 "nbformat_minor": 2
}
