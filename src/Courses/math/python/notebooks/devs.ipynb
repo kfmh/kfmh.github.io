{
 "cells": [
  {
   "cell_type": "code",
   "execution_count": 19,
   "metadata": {},
   "outputs": [],
   "source": [
    "import json\n",
    "import os\n",
    "\n",
    "import os \n",
    "\n",
    "dir_paths = \"../../../../Data/MATH/test/precalculus/\"\n",
    "\n",
    "file_paths = [os.path.join(dir_paths, file) for file in os.listdir(dir_paths)\n",
    "              if os.path.isfile(os.path.join(dir_paths, file))]\n",
    "\n",
    "\n",
    "# Initialize an empty list to store JSON data\n",
    "combined_json_data = []\n",
    "\n",
    "for file_name in file_paths:\n",
    "    with open(file_name, 'r') as file:\n",
    "        data = json.load(file)\n",
    "        combined_json_data.append(data)\n",
    "\n",
    "# Now combined_json_data contains all the JSON objects\n",
    "# You can write it to a new JSON file or process it as needed\n",
    "with open(f'{dir_paths.split(\"/\")[-2]}.json', 'w') as outfile:\n",
    "    json.dump(combined_json_data, outfile, indent=4)\n",
    "\n"
   ]
  }
 ],
 "metadata": {
  "kernelspec": {
   "display_name": ".env",
   "language": "python",
   "name": ".env"
  },
  "language_info": {
   "codemirror_mode": {
    "name": "ipython",
    "version": 3
   },
   "file_extension": ".py",
   "mimetype": "text/x-python",
   "name": "python",
   "nbconvert_exporter": "python",
   "pygments_lexer": "ipython3",
   "version": "3.11.3"
  }
 },
 "nbformat": 4,
 "nbformat_minor": 2
}
